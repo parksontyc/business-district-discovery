{
 "cells": [
  {
   "cell_type": "code",
   "execution_count": null,
   "metadata": {},
   "outputs": [],
   "source": [
    "import sys\n",
    "from pathlib import Path\n",
    "project_root = Path.cwd().parent.parent  # 找出根目錄：Path.cwd()找出現在所在目錄(/run).parent(上一層是notebook).parent(再上層一層business_district_discovery)\n",
    "print(project_root)\n",
    "sys.path.append(str(project_root))\n",
    "\n",
    "import pandas as pd\n",
    "\n",
    "from src.data_pipeline.expansion_pipeline_builder import DataExpansionPipelineBuilder"
   ]
  },
  {
   "cell_type": "code",
   "execution_count": null,
   "metadata": {},
   "outputs": [],
   "source": [
    "base_path = project_root / 'data' / 'output' / 'base'/'BusinessRegistration_base.pkl'\n",
    "base_data = pd.read_pickle(base_path)"
   ]
  },
  {
   "cell_type": "code",
   "execution_count": null,
   "metadata": {},
   "outputs": [],
   "source": [
    "base_data"
   ]
  },
  {
   "cell_type": "code",
   "execution_count": null,
   "metadata": {},
   "outputs": [],
   "source": [
    "expansion_data = (DataExpansionPipelineBuilder(base_data)\n",
    "                  .add_city_and_town()\n",
    "                  .add_bizid_category_classifier()\n",
    "                  .add_date_processor(\n",
    "                      enable_operation_years=True,\n",
    "                      enable_year =True\n",
    "                  )\n",
    "                  .add_chain_identifier()\n",
    "                  .build()\n",
    "                  .execute())"
   ]
  },
  {
   "cell_type": "code",
   "execution_count": null,
   "metadata": {},
   "outputs": [],
   "source": [
    "expansion_data[expansion_data['中類']== '餐飲業']"
   ]
  },
  {
   "cell_type": "code",
   "execution_count": null,
   "metadata": {},
   "outputs": [],
   "source": [
    "selected_df = expansion_data.loc[:, ['統一編號', '正規化營業地址', '地址狀態', '總機構統一編號', \n",
    "                                     '營業人名稱','大類', '中類', '小類', '細類', '行業代號', '名稱', '期別', '營運狀態', \n",
    "                                     '縣市', '行政區', '設立年份', '設立季度', '營業年數', '營業型態']]\n",
    "selected_df[selected_df['名稱'].str.contains('早', na=False)]\n"
   ]
  },
  {
   "cell_type": "code",
   "execution_count": null,
   "metadata": {},
   "outputs": [],
   "source": [
    "# pd.set_option('display.max_rows', None)\n",
    "print(selected_df['名稱'].value_counts())\n",
    "# pd.reset_option('display.max_rows')"
   ]
  },
  {
   "cell_type": "code",
   "execution_count": null,
   "metadata": {},
   "outputs": [],
   "source": [
    "selected_df"
   ]
  },
  {
   "cell_type": "code",
   "execution_count": null,
   "metadata": {},
   "outputs": [],
   "source": [
    "test_df = expansion_data[['正規化營業地址', '地址狀態']].copy()\n",
    "test_df"
   ]
  },
  {
   "cell_type": "code",
   "execution_count": null,
   "metadata": {},
   "outputs": [],
   "source": [
    "test_df['地址到號'] = test_df['正規化營業地址'].str.extract('(.*號)[^號]*$', expand=False)\n"
   ]
  },
  {
   "cell_type": "code",
   "execution_count": null,
   "metadata": {},
   "outputs": [],
   "source": [
    "test_df"
   ]
  },
  {
   "cell_type": "code",
   "execution_count": null,
   "metadata": {},
   "outputs": [],
   "source": [
    "x = test_df['地址到號'].value_counts()\n",
    "x"
   ]
  }
 ],
 "metadata": {
  "kernelspec": {
   "display_name": "business-distric-discovery",
   "language": "python",
   "name": "python3"
  },
  "language_info": {
   "codemirror_mode": {
    "name": "ipython",
    "version": 3
   },
   "file_extension": ".py",
   "mimetype": "text/x-python",
   "name": "python",
   "nbconvert_exporter": "python",
   "pygments_lexer": "ipython3",
   "version": "3.11.11"
  }
 },
 "nbformat": 4,
 "nbformat_minor": 2
}
