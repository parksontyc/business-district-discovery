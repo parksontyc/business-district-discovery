{
 "cells": [
  {
   "cell_type": "code",
   "execution_count": null,
   "metadata": {},
   "outputs": [],
   "source": [
    "import sys\n",
    "from pathlib import Path\n",
    "project_root = Path.cwd().parent.parent  # 找出根目錄：Path.cwd()找出現在所在目錄(/run).parent(上一層是notebook).parent(再上層一層business_district_discovery)\n",
    "print(project_root)\n",
    "sys.path.append(str(project_root))\n",
    "\n",
    "import pandas as pd\n",
    "\n",
    "from src.data_enrichment.expansion.data_expansion import CityTownStrip\n",
    "from src.data_pipeline.expansion_pipeline_builder import DataExpansionPipelineBuilder"
   ]
  },
  {
   "cell_type": "code",
   "execution_count": null,
   "metadata": {},
   "outputs": [],
   "source": [
    "base_path = project_root / 'data' / 'output' / 'base'/'BusinessRegistration_base.pkl'\n",
    "base_data = pd.read_pickle(base_path)\n"
   ]
  },
  {
   "cell_type": "code",
   "execution_count": null,
   "metadata": {},
   "outputs": [],
   "source": [
    "expansion_data = (DataExpansionPipelineBuilder(base_data)\n",
    "                  .add_city_and_town()\n",
    "                  .build()\n",
    "                  .execute())"
   ]
  },
  {
   "cell_type": "code",
   "execution_count": null,
   "metadata": {},
   "outputs": [],
   "source": [
    "expansion_data"
   ]
  }
 ],
 "metadata": {
  "kernelspec": {
   "display_name": "business-distric-discovery",
   "language": "python",
   "name": "python3"
  },
  "language_info": {
   "codemirror_mode": {
    "name": "ipython",
    "version": 3
   },
   "file_extension": ".py",
   "mimetype": "text/x-python",
   "name": "python",
   "nbconvert_exporter": "python",
   "pygments_lexer": "ipython3",
   "version": "3.11.11"
  }
 },
 "nbformat": 4,
 "nbformat_minor": 2
}
