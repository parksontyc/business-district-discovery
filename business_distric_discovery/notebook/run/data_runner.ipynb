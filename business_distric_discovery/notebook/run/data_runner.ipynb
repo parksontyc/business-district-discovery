{
 "cells": [
  {
   "cell_type": "code",
   "execution_count": null,
   "metadata": {},
   "outputs": [],
   "source": [
    "import sys\n",
    "from pathlib import Path\n",
    "project_root = Path.cwd().parent.parent  # 找出根目錄：Path.cwd()找出現在所在目錄(/run).parent(上一層是notebook).parent(再上層一層business_district_discovery)\n",
    "print(project_root)\n",
    "sys.path.append(str(project_root))\n",
    "\n",
    "from src.data_foundation.data_pipeline.pipeline_builder import PipelineBuilder\n",
    "\n",
    "import warnings\n",
    "warnings.filterwarnings('ignore')"
   ]
  },
  {
   "cell_type": "code",
   "execution_count": null,
   "metadata": {},
   "outputs": [],
   "source": [
    "original_file_path = str(project_root / 'data' / 'raw' / 'BusinessRegistration_11312.csv')"
   ]
  },
  {
   "cell_type": "code",
   "execution_count": null,
   "metadata": {},
   "outputs": [],
   "source": [
    "original_data = (PipelineBuilder(original_file_path)\n",
    "                 .add_csv_extractor()\n",
    "                 .add_df_creator()\n",
    "                 .add_num_str_format()\n",
    "                 .add_date_format()\n",
    "                 .add_addr_full_to_half(output_column='正規化地址')\n",
    "                 .build()\n",
    "                 .execute())"
   ]
  },
  {
   "cell_type": "code",
   "execution_count": null,
   "metadata": {},
   "outputs": [],
   "source": [
    "original_data"
   ]
  }
 ],
 "metadata": {
  "kernelspec": {
   "display_name": "business-distric-discovery",
   "language": "python",
   "name": "python3"
  },
  "language_info": {
   "codemirror_mode": {
    "name": "ipython",
    "version": 3
   },
   "file_extension": ".py",
   "mimetype": "text/x-python",
   "name": "python",
   "nbconvert_exporter": "python",
   "pygments_lexer": "ipython3",
   "version": "3.11.11"
  }
 },
 "nbformat": 4,
 "nbformat_minor": 2
}
