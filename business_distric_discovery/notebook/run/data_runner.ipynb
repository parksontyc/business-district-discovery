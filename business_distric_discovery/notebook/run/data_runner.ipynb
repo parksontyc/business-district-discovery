{
 "cells": [
  {
   "cell_type": "code",
   "execution_count": null,
   "metadata": {},
   "outputs": [],
   "source": [
    "import sys\n",
    "from pathlib import Path\n",
    "project_root = Path.cwd().parent.parent  # 找出根目錄：Path.cwd()找出現在所在目錄(/run).parent(上一層是notebook).parent(再上層一層business_district_discovery)\n",
    "print(project_root)\n",
    "sys.path.append(str(project_root))\n",
    "\n",
    "from src.data_foundation.data_pipeline.data_factory import DataProcessingSystem\n",
    "\n",
    "import warnings\n",
    "warnings.filterwarnings('ignore')"
   ]
  },
  {
   "cell_type": "code",
   "execution_count": null,
   "metadata": {},
   "outputs": [],
   "source": [
    "# 設定專案根目錄\n",
    "# project_root = \"c:/PyWorkspace\"  # 請更改為您的實際根目錄路徑\n",
    "system = DataProcessingSystem(project_root)\n",
    "\n",
    "# 建立初始基準資料\n",
    "success = system.initialize_base_data('11312', '11401')\n",
    "if success:\n",
    "    print(\"初始基準資料建立成功\")\n",
    "else:\n",
    "    print(\"初始基準資料建立失敗\")"
   ]
  },
  {
   "cell_type": "code",
   "execution_count": null,
   "metadata": {},
   "outputs": [],
   "source": [
    "# 使用11402更新\n",
    "success = system.update_base_data('11402')\n",
    "if success:\n",
    "    print(\"基準資料更新成功\")\n",
    "else:\n",
    "    print(\"基準資料更新失敗\")"
   ]
  }
 ],
 "metadata": {
  "kernelspec": {
   "display_name": "Python 3",
   "language": "python",
   "name": "python3"
  },
  "language_info": {
   "codemirror_mode": {
    "name": "ipython",
    "version": 3
   },
   "file_extension": ".py",
   "mimetype": "text/x-python",
   "name": "python",
   "nbconvert_exporter": "python",
   "pygments_lexer": "ipython3",
   "version": "3.11.11"
  }
 },
 "nbformat": 4,
 "nbformat_minor": 2
}
